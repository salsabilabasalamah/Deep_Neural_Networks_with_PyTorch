{
  "cells": [
    {
      "cell_type": "markdown",
      "metadata": {
        "id": "wK-zskXFAmrQ"
      },
      "source": [
        "<h1>Convolutional Neural Network with Batch-Normalization </h1>\n"
      ]
    },
    {
      "cell_type": "markdown",
      "metadata": {
        "id": "R7eGmN7DAmrQ"
      },
      "source": [
        "**<h3>Objective:<h3>**\n",
        "1.   Compare a Convolutional Neural Network using Batch Normalization with a standard Convolutional Neural Network.\n",
        "2.   Classify handwritten digits from the MNIST database."
      ]
    },
    {
      "cell_type": "markdown",
      "source": [
        "**<h3>MNIST database<h3>**\n",
        "In this tutorial, you'll learn how to use layers to build a convolutional neural network model to recognize the handwritten digits in the MNIST data set.\n",
        "\n",
        "![mnist_0-9.png](data:image/png;base64,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)\n",
        "\n",
        "handwritten digits 0–9 from the MNIST data set\n",
        "\n",
        "---\n",
        "\n",
        "\n",
        "\n",
        "The MNIST dataset comprises 60,000 training examples and 10,000 test examples of the handwritten digits 0–9, formatted as 28x28-pixel monochrome images."
      ],
      "metadata": {
        "id": "WByvY0lrO-Zo"
      }
    },
    {
      "cell_type": "markdown",
      "metadata": {
        "id": "4wMoYT5bAmrY"
      },
      "source": [
        "<h2 id=\"read_me\">Read me Batch Norm for Convolution Operation  </h2>\n"
      ]
    },
    {
      "cell_type": "markdown",
      "metadata": {
        "id": "2dwfH7kmAmrc"
      },
      "source": [
        "Like a fully connected network, we create a <code>BatchNorm2d</code> object, but we apply it to the 2D convolution object. First, we create objects <code>Conv2d</code> object; we require the number of output channels, specified by the variable <code>OUT</code>.  \n"
      ]
    },
    {
      "cell_type": "markdown",
      "metadata": {
        "id": "WUtbOirkAmrd"
      },
      "source": [
        "<code>self.cnn1 = nn.Conv2d(in_channels=1, out_channels=OUT, kernel_size=5, padding=2) </code>\n"
      ]
    },
    {
      "cell_type": "markdown",
      "metadata": {
        "id": "k-E7Iz94Amrd"
      },
      "source": [
        "We then create a Batch Norm  object for 2D convolution as follows:\n"
      ]
    },
    {
      "cell_type": "markdown",
      "metadata": {
        "id": "FkDaQ6MBAmre"
      },
      "source": [
        "<code>self.conv1_bn = nn.BatchNorm2d(OUT)</code>\n"
      ]
    },
    {
      "cell_type": "markdown",
      "metadata": {
        "id": "xPh3tY4xAmrg"
      },
      "source": [
        "The parameter out is the number of channels in the output. We can then apply batch norm  after  the convolution operation :\n"
      ]
    },
    {
      "cell_type": "markdown",
      "metadata": {
        "id": "JD27Jg6MAmrg"
      },
      "source": [
        "<code>x = self.cnn1(x)</code>\n",
        "<p></p>\n",
        " <code> x=self.conv1_bn(x)</code>\n"
      ]
    },
    {
      "cell_type": "markdown",
      "metadata": {
        "id": "2faxEOsaAmrm"
      },
      "source": [
        "<h2>Preparation</h2>\n"
      ]
    },
    {
      "cell_type": "code",
      "execution_count": 1,
      "metadata": {
        "colab": {
          "base_uri": "https://localhost:8080/"
        },
        "id": "4TUVdZSRAmrn",
        "outputId": "cd8b6f17-b969-46c1-a7b6-1aa9c214c6f0"
      },
      "outputs": [
        {
          "output_type": "stream",
          "name": "stdout",
          "text": [
            "\u001b[31mERROR: Could not find a version that satisfies the requirement torchvision==0.9.1 (from versions: 0.1.6, 0.1.7, 0.1.8, 0.1.9, 0.2.0, 0.2.1, 0.2.2, 0.2.2.post2, 0.2.2.post3, 0.12.0, 0.13.0, 0.13.1, 0.14.0, 0.14.1, 0.15.0, 0.15.1, 0.15.2)\u001b[0m\u001b[31m\n",
            "\u001b[0m\u001b[31mERROR: No matching distribution found for torchvision==0.9.1\u001b[0m\u001b[31m\n",
            "\u001b[0m"
          ]
        }
      ],
      "source": [
        "# Import the libraries we need to use in this lab\n",
        "\n",
        "# Using the following line code to install the torchvision library\n",
        "# !mamba install -y torchvision\n",
        "\n",
        "!pip install torchvision==0.9.1 torch==1.8.1\n",
        "import torch\n",
        "import torch.nn as nn\n",
        "import torchvision.transforms as transforms\n",
        "import torchvision.datasets as dsets\n",
        "import matplotlib.pylab as plt\n",
        "import numpy as np\n",
        "def show_data(data_sample):\n",
        "    plt.imshow(data_sample[0].numpy().reshape(IMAGE_SIZE, IMAGE_SIZE), cmap='gray')\n",
        "    plt.title('y = '+ str(data_sample[1]))"
      ]
    },
    {
      "cell_type": "markdown",
      "metadata": {
        "id": "vwJa8btCAmsG"
      },
      "source": [
        "<h2 id=\"Makeup_Data\">Get the Data</h2>\n"
      ]
    },
    {
      "cell_type": "markdown",
      "metadata": {
        "id": "fg7RcwUNAmsH"
      },
      "source": [
        "The next code prepares a transformation pipeline that resizes the MNIST images to a consistent size of 16x16 pixels and converts them into PyTorch tensors for further processing."
      ]
    },
    {
      "cell_type": "code",
      "execution_count": 2,
      "metadata": {
        "id": "oktPvp8CAmsH"
      },
      "outputs": [],
      "source": [
        "# Define the desired image size (16x16 pixels)\n",
        "IMAGE_SIZE = 16\n",
        "\n",
        "# Create a composed transformation using PyTorch's transforms.Compose\n",
        "composed = transforms.Compose([\n",
        "    transforms.Resize((IMAGE_SIZE, IMAGE_SIZE)),  # Resize the images to the specified size\n",
        "    transforms.ToTensor()  # Convert the images to tensors (numeric representation)\n",
        "])"
      ]
    },
    {
      "cell_type": "markdown",
      "metadata": {
        "id": "K7MxJ8bOAmsI"
      },
      "source": [
        "The following code loads the MNIST training dataset, ensuring it is available in the specified directory. It applies the defined transformations to prepare it for use in training machine learning models."
      ]
    },
    {
      "cell_type": "code",
      "execution_count": 3,
      "metadata": {
        "id": "8R6hW7fiAmsI",
        "colab": {
          "base_uri": "https://localhost:8080/"
        },
        "outputId": "0add9cb2-eea1-44dd-8b93-ff01f621d8dc"
      },
      "outputs": [
        {
          "output_type": "stream",
          "name": "stdout",
          "text": [
            "Downloading http://yann.lecun.com/exdb/mnist/train-images-idx3-ubyte.gz\n",
            "Downloading http://yann.lecun.com/exdb/mnist/train-images-idx3-ubyte.gz to ./data/MNIST/raw/train-images-idx3-ubyte.gz\n"
          ]
        },
        {
          "output_type": "stream",
          "name": "stderr",
          "text": [
            "100%|██████████| 9912422/9912422 [00:00<00:00, 25597954.44it/s]\n"
          ]
        },
        {
          "output_type": "stream",
          "name": "stdout",
          "text": [
            "Extracting ./data/MNIST/raw/train-images-idx3-ubyte.gz to ./data/MNIST/raw\n",
            "\n",
            "Downloading http://yann.lecun.com/exdb/mnist/train-labels-idx1-ubyte.gz\n",
            "Downloading http://yann.lecun.com/exdb/mnist/train-labels-idx1-ubyte.gz to ./data/MNIST/raw/train-labels-idx1-ubyte.gz\n"
          ]
        },
        {
          "output_type": "stream",
          "name": "stderr",
          "text": [
            "100%|██████████| 28881/28881 [00:00<00:00, 32845903.97it/s]\n"
          ]
        },
        {
          "output_type": "stream",
          "name": "stdout",
          "text": [
            "Extracting ./data/MNIST/raw/train-labels-idx1-ubyte.gz to ./data/MNIST/raw\n",
            "\n",
            "Downloading http://yann.lecun.com/exdb/mnist/t10k-images-idx3-ubyte.gz\n",
            "Downloading http://yann.lecun.com/exdb/mnist/t10k-images-idx3-ubyte.gz to ./data/MNIST/raw/t10k-images-idx3-ubyte.gz\n"
          ]
        },
        {
          "output_type": "stream",
          "name": "stderr",
          "text": [
            "100%|██████████| 1648877/1648877 [00:00<00:00, 34619789.04it/s]\n"
          ]
        },
        {
          "output_type": "stream",
          "name": "stdout",
          "text": [
            "Extracting ./data/MNIST/raw/t10k-images-idx3-ubyte.gz to ./data/MNIST/raw\n",
            "\n",
            "Downloading http://yann.lecun.com/exdb/mnist/t10k-labels-idx1-ubyte.gz\n",
            "Downloading http://yann.lecun.com/exdb/mnist/t10k-labels-idx1-ubyte.gz to ./data/MNIST/raw/t10k-labels-idx1-ubyte.gz\n"
          ]
        },
        {
          "output_type": "stream",
          "name": "stderr",
          "text": [
            "100%|██████████| 4542/4542 [00:00<00:00, 13284887.56it/s]\n"
          ]
        },
        {
          "output_type": "stream",
          "name": "stdout",
          "text": [
            "Extracting ./data/MNIST/raw/t10k-labels-idx1-ubyte.gz to ./data/MNIST/raw\n",
            "\n"
          ]
        }
      ],
      "source": [
        "# Load the training dataset with specific parameters\n",
        "train_dataset = dsets.MNIST(\n",
        "    root='./data',    # The root directory where the dataset will be stored\n",
        "    train=True,        # Indicates that this is the training dataset\n",
        "    download=True,     # Automatically download the dataset if it's not available locally\n",
        "    transform=composed  # Apply the transformation defined earlier (resizing and conversion to tensors)\n",
        ")"
      ]
    },
    {
      "cell_type": "markdown",
      "metadata": {
        "id": "7hLIc_RXAmsI"
      },
      "source": [
        "Load the testing dataset by setting the parameters train  <code>False</code>.\n"
      ]
    },
    {
      "cell_type": "code",
      "execution_count": 4,
      "metadata": {
        "id": "ZmTHjJiHAmsK"
      },
      "outputs": [],
      "source": [
        "# Make the validating\n",
        "validation_dataset = dsets.MNIST(root='./data', train=False, download=True, transform=composed)"
      ]
    },
    {
      "cell_type": "markdown",
      "metadata": {
        "id": "um9IUUulAmsQ"
      },
      "source": [
        "We can see the data type is long.\n"
      ]
    },
    {
      "cell_type": "code",
      "execution_count": 5,
      "metadata": {
        "colab": {
          "base_uri": "https://localhost:8080/"
        },
        "id": "Kzaz2IydAmsR",
        "outputId": "f0bb4d69-43ed-4f94-b873-278144c0a74d"
      },
      "outputs": [
        {
          "output_type": "execute_result",
          "data": {
            "text/plain": [
              "int"
            ]
          },
          "metadata": {},
          "execution_count": 5
        }
      ],
      "source": [
        "# Show the data type for each element in dataset\n",
        "type(train_dataset[0][1])"
      ]
    },
    {
      "cell_type": "markdown",
      "metadata": {
        "id": "ubvyuaqOAmsS"
      },
      "source": [
        "Each element in the rectangular tensor corresponds to a number representing a pixel intensity as demonstrated by the following image.\n"
      ]
    },
    {
      "cell_type": "markdown",
      "metadata": {
        "id": "NQd7IlYbAmsS"
      },
      "source": [
        "<img src=\"https://s3-api.us-geo.objectstorage.softlayer.net/cf-courses-data/CognitiveClass/DL0110EN/notebook_images%20/chapter%206/6.2.1imagenet.png\" width=\"550\" alt=\"MNIST data image\">\n"
      ]
    },
    {
      "cell_type": "markdown",
      "metadata": {
        "id": "2SUHpMeCAmsT"
      },
      "source": [
        "Print out the fourth label\n"
      ]
    },
    {
      "cell_type": "code",
      "execution_count": 6,
      "metadata": {
        "colab": {
          "base_uri": "https://localhost:8080/"
        },
        "id": "_XlEUMpxAmsT",
        "outputId": "31377451-cdd9-4345-8e86-1703a2697ee0"
      },
      "outputs": [
        {
          "output_type": "execute_result",
          "data": {
            "text/plain": [
              "1"
            ]
          },
          "metadata": {},
          "execution_count": 6
        }
      ],
      "source": [
        "# The label for the fourth data element\n",
        "train_dataset[3][1]"
      ]
    },
    {
      "cell_type": "markdown",
      "metadata": {
        "id": "dPYKtVUlAmsY"
      },
      "source": [
        "Plot the fourth sample\n"
      ]
    },
    {
      "cell_type": "code",
      "execution_count": 7,
      "metadata": {
        "colab": {
          "base_uri": "https://localhost:8080/",
          "height": 452
        },
        "id": "m85VNUqEAmsY",
        "outputId": "82bde8b6-2e57-41d3-c185-4eecdf27a429"
      },
      "outputs": [
        {
          "output_type": "display_data",
          "data": {
            "text/plain": [
              "<Figure size 640x480 with 1 Axes>"
            ],
            "image/png": "[encoded data removed]"
          },
          "metadata": {}
        }
      ],
      "source": [
        "# The image for the fourth data element\n",
        "show_data(train_dataset[3])"
      ]
    },
    {
      "cell_type": "markdown",
      "metadata": {
        "id": "EqtEwtfWAmsZ"
      },
      "source": [
        "The fourth sample is a \"1\".\n"
      ]
    },
    {
      "cell_type": "markdown",
      "metadata": {
        "id": "B31F0nQQAmsb"
      },
      "source": [
        "<!--Empty Space for separating topics-->\n"
      ]
    },
    {
      "cell_type": "markdown",
      "metadata": {
        "id": "2w6hymPZAmsc"
      },
      "source": [
        "<h2 id=\"CNN\">Build a Two Convolutional Neural Network Class</h2>\n"
      ]
    },
    {
      "cell_type": "markdown",
      "metadata": {
        "id": "DwB0y8I3Amsc"
      },
      "source": [
        "Build a Convolutional Network class with two Convolutional layers and one fully connected layer. Pre-determine the size of the final output matrix. The parameters in the constructor are the number of output channels for the first and second layer.\n"
      ]
    },
    {
      "cell_type": "code",
      "execution_count": 8,
      "metadata": {
        "id": "LXZ7NOJhAmsc"
      },
      "outputs": [],
      "source": [
        "class CNN(nn.Module):\n",
        "\n",
        "    # Contructor\n",
        "    def __init__(self, out_1=16, out_2=32):\n",
        "        super(CNN, self).__init__()\n",
        "        self.cnn1 = nn.Conv2d(in_channels=1, out_channels=out_1, kernel_size=5, padding=2)\n",
        "        self.maxpool1=nn.MaxPool2d(kernel_size=2)\n",
        "\n",
        "        self.cnn2 = nn.Conv2d(in_channels=out_1, out_channels=out_2, kernel_size=5, stride=1, padding=2)\n",
        "        self.maxpool2=nn.MaxPool2d(kernel_size=2)\n",
        "        self.fc1 = nn.Linear(out_2 * 4 * 4, 10)\n",
        "\n",
        "    # Prediction\n",
        "    def forward(self, x):\n",
        "        x = self.cnn1(x)\n",
        "        x = torch.relu(x)\n",
        "        x = self.maxpool1(x)\n",
        "        x = self.cnn2(x)\n",
        "        x = torch.relu(x)\n",
        "        x = self.maxpool2(x)\n",
        "        x = x.view(x.size(0), -1)\n",
        "        x = self.fc1(x)\n",
        "        return x"
      ]
    },
    {
      "cell_type": "markdown",
      "metadata": {
        "id": "ZKo0IO-nAmsd"
      },
      "source": [
        "Build a Convolutional Network class with two Convolutional layers and one fully connected layer. But we add Batch Norm for the convolutional layers.\n"
      ]
    },
    {
      "cell_type": "code",
      "execution_count": 9,
      "metadata": {
        "id": "sFtTI90iAmsd"
      },
      "outputs": [],
      "source": [
        "class CNN_batch(nn.Module):\n",
        "\n",
        "    # Contructor\n",
        "    def __init__(self, out_1=16, out_2=32,number_of_classes=10):\n",
        "        super(CNN_batch, self).__init__()\n",
        "        self.cnn1 = nn.Conv2d(in_channels=1, out_channels=out_1, kernel_size=5, padding=2)\n",
        "        self.conv1_bn = nn.BatchNorm2d(out_1)\n",
        "\n",
        "        self.maxpool1=nn.MaxPool2d(kernel_size=2)\n",
        "\n",
        "        self.cnn2 = nn.Conv2d(in_channels=out_1, out_channels=out_2, kernel_size=5, stride=1, padding=2)\n",
        "        self.conv2_bn = nn.BatchNorm2d(out_2)\n",
        "\n",
        "        self.maxpool2=nn.MaxPool2d(kernel_size=2)\n",
        "        self.fc1 = nn.Linear(out_2 * 4 * 4, number_of_classes)\n",
        "        self.bn_fc1 = nn.BatchNorm1d(10)\n",
        "\n",
        "    # Prediction\n",
        "    def forward(self, x):\n",
        "        x = self.cnn1(x)\n",
        "        x=self.conv1_bn(x)\n",
        "        x = torch.relu(x)\n",
        "        x = self.maxpool1(x)\n",
        "        x = self.cnn2(x)\n",
        "        x=self.conv2_bn(x)\n",
        "        x = torch.relu(x)\n",
        "        x = self.maxpool2(x)\n",
        "        x = x.view(x.size(0), -1)\n",
        "        x = self.fc1(x)\n",
        "        x=self.bn_fc1(x)\n",
        "        return x"
      ]
    },
    {
      "cell_type": "markdown",
      "metadata": {
        "id": "mM2u0oPEAmse"
      },
      "source": [
        "Function to train the model\n"
      ]
    },
    {
      "cell_type": "code",
      "execution_count": 10,
      "metadata": {
        "id": "poS4dn1wAmse"
      },
      "outputs": [],
      "source": [
        "def train_model(model,train_loader,validation_loader,optimizer,n_epochs=4):\n",
        "\n",
        "    #global variable\n",
        "    N_test=len(validation_dataset)\n",
        "    accuracy_list=[]\n",
        "    loss_list=[]\n",
        "    for epoch in range(n_epochs):\n",
        "        for x, y in train_loader:\n",
        "            model.train()\n",
        "            optimizer.zero_grad()\n",
        "            z = model(x)\n",
        "            loss = criterion(z, y)\n",
        "            loss.backward()\n",
        "            optimizer.step()\n",
        "            loss_list.append(loss.data)\n",
        "\n",
        "        correct=0\n",
        "        #perform a prediction on the validation  data\n",
        "        for x_test, y_test in validation_loader:\n",
        "            model.eval()\n",
        "            z = model(x_test)\n",
        "            _, yhat = torch.max(z.data, 1)\n",
        "            correct += (yhat == y_test).sum().item()\n",
        "        accuracy = correct / N_test\n",
        "        accuracy_list.append(accuracy)\n",
        "\n",
        "    return accuracy_list, loss_list"
      ]
    },
    {
      "cell_type": "markdown",
      "metadata": {
        "id": "3O8N7opFAmsf"
      },
      "source": [
        "<h2 id=\"Train\">Define the Convolutional Neural Network Classifier, Criterion function, Optimizer and Train the Model</h2>\n"
      ]
    },
    {
      "cell_type": "markdown",
      "metadata": {
        "id": "jaAtaB9LAmtC"
      },
      "source": [
        "There are 16 output channels for the first layer, and 32 output channels for the second layer\n"
      ]
    },
    {
      "cell_type": "code",
      "execution_count": 11,
      "metadata": {
        "id": "Oi-QWaseAmtC"
      },
      "outputs": [],
      "source": [
        "# Create the model object using CNN class\n",
        "model = CNN(out_1=16, out_2=32)"
      ]
    },
    {
      "cell_type": "markdown",
      "metadata": {
        "id": "8Ogy4pF_AmtC"
      },
      "source": [
        "Define the loss function, the optimizer and the dataset loader\n"
      ]
    },
    {
      "cell_type": "code",
      "execution_count": 12,
      "metadata": {
        "id": "-LeQGRyFAmtD"
      },
      "outputs": [],
      "source": [
        "criterion = nn.CrossEntropyLoss()\n",
        "learning_rate = 0.1\n",
        "optimizer = torch.optim.SGD(model.parameters(), lr = learning_rate)\n",
        "train_loader = torch.utils.data.DataLoader(dataset=train_dataset, batch_size=100)\n",
        "validation_loader = torch.utils.data.DataLoader(dataset=validation_dataset, batch_size=5000)"
      ]
    },
    {
      "cell_type": "markdown",
      "metadata": {
        "id": "1F2zO27hAmtD"
      },
      "source": [
        "Train the model and determine validation accuracy technically test accuracy **(This may take a long time)**\n"
      ]
    },
    {
      "cell_type": "code",
      "execution_count": 13,
      "metadata": {
        "id": "styZrjhWAmtD"
      },
      "outputs": [],
      "source": [
        "# Train the model\n",
        "accuracy_list_normal, loss_list_normal=train_model(model=model,n_epochs=20,train_loader=train_loader,validation_loader=validation_loader,optimizer=optimizer)"
      ]
    },
    {
      "cell_type": "markdown",
      "metadata": {
        "id": "9NkA8ZuVAmtE"
      },
      "source": [
        "Repeat the Process for the model with  batch norm\n"
      ]
    },
    {
      "cell_type": "code",
      "execution_count": 14,
      "metadata": {
        "id": "EiaPM0OtAmtE"
      },
      "outputs": [],
      "source": [
        "model_batch=CNN_batch(out_1=16, out_2=32)\n",
        "criterion = nn.CrossEntropyLoss()\n",
        "learning_rate = 0.1\n",
        "optimizer = torch.optim.SGD(model_batch.parameters(), lr = learning_rate)\n",
        "accuracy_list_batch, loss_list_batch=train_model(model=model_batch,n_epochs=20,train_loader=train_loader,validation_loader=validation_loader,optimizer=optimizer)"
      ]
    },
    {
      "cell_type": "markdown",
      "metadata": {
        "id": "XlNSE_xVAmtF"
      },
      "source": [
        "<!--Empty Space for separating topics-->\n"
      ]
    },
    {
      "cell_type": "markdown",
      "metadata": {
        "id": "PnHNQALWAmtF"
      },
      "source": [
        "<h2 id=\"Result\">Analyze Results</h2>\n"
      ]
    },
    {
      "cell_type": "markdown",
      "metadata": {
        "id": "VxENs3JaAmtF"
      },
      "source": [
        "Plot the loss with both networks.\n"
      ]
    },
    {
      "cell_type": "code",
      "execution_count": 15,
      "metadata": {
        "colab": {
          "base_uri": "https://localhost:8080/",
          "height": 490
        },
        "id": "LbDJmYFrAmtG",
        "outputId": "9136e78f-80d6-4167-ec58-bd9a0e71a760"
      },
      "outputs": [
        {
          "output_type": "execute_result",
          "data": {
            "text/plain": [
              "<matplotlib.legend.Legend at 0x7c0daa831f00>"
            ]
          },
          "metadata": {},
          "execution_count": 15
        },
        {
          "output_type": "display_data",
          "data": {
            "text/plain": [
              "<Figure size 640x480 with 1 Axes>"
            ],
            "image/png": "[encoded data removed]"
          },
          "metadata": {}
        }
      ],
      "source": [
        "# Plot the loss and accuracy\n",
        "\n",
        "# Plot the loss for a normal CNN model in blue\n",
        "plt.plot(loss_list_normal, 'b', label='loss normal CNN ')\n",
        "\n",
        "# Plot the loss for a CNN model with Batch Normalization in red\n",
        "plt.plot(loss_list_batch, 'r', label='loss batch CNN')\n",
        "\n",
        "# Label the x-axis as 'iteration'\n",
        "plt.xlabel('iteration')\n",
        "\n",
        "# Set the title of the plot to \"loss\"\n",
        "plt.title(\"loss\")\n",
        "\n",
        "# Add a legend to the plot to distinguish between the two lines\n",
        "plt.legend()"
      ]
    },
    {
      "cell_type": "code",
      "execution_count": 16,
      "metadata": {
        "colab": {
          "base_uri": "https://localhost:8080/",
          "height": 472
        },
        "id": "MZQn70oCAmtG",
        "outputId": "b5db8043-d82d-488a-a790-7baaab7b5f9e"
      },
      "outputs": [
        {
          "output_type": "display_data",
          "data": {
            "text/plain": [
              "<Figure size 640x480 with 1 Axes>"
            ],
            "image/png": "[encoded data removed]"
          },
          "metadata": {}
        }
      ],
      "source": [
        "# Plot the accuracy\n",
        "\n",
        "# Plot the accuracy for a normal CNN model in blue\n",
        "plt.plot(accuracy_list_normal, 'b', label=' normal CNN')\n",
        "\n",
        "# Plot the accuracy for a CNN model with Batch Normalization in red\n",
        "plt.plot(accuracy_list_batch, 'r', label=' CNN with Batch Norm')\n",
        "\n",
        "# Label the x-axis as 'Epoch'\n",
        "plt.xlabel('Epoch')\n",
        "\n",
        "# Set the title of the plot to \"Accuracy\"\n",
        "plt.title(\"Accuracy\")\n",
        "\n",
        "# Add a legend to the plot to distinguish between the two lines\n",
        "plt.legend()\n",
        "\n",
        "# Display the plot\n",
        "plt.show()"
      ]
    },
    {
      "cell_type": "markdown",
      "source": [
        "In summary:\n",
        "\n",
        "1.   The CNN with Batch Normalization consistently outperforms the standard CNN.\n",
        "2.   Batch Normalization accelerates convergence and enhances training stability.\n",
        "3.   Accuracy is notably higher with Batch Normalization.\n",
        "4.   Batch Normalization is crucial for improving image classification tasks like MNIST digit recognition.\n",
        "\n",
        "\n",
        "\n",
        "\n",
        "\n",
        "\n",
        "\n",
        "\n",
        "\n"
      ],
      "metadata": {
        "id": "loQkSds-POK6"
      }
    },
    {
      "cell_type": "markdown",
      "metadata": {
        "id": "ylOZJLpwAmtI"
      },
      "source": [
        "<!--Empty Space for separating topics-->\n"
      ]
    }
  ],
  "metadata": {
    "kernelspec": {
      "display_name": "Python",
      "language": "python",
      "name": "conda-env-python-py"
    },
    "language_info": {
      "codemirror_mode": {
        "name": "ipython",
        "version": 3
      },
      "file_extension": ".py",
      "mimetype": "text/x-python",
      "name": "python",
      "nbconvert_exporter": "python",
      "pygments_lexer": "ipython3",
      "version": "3.7.12"
    },
    "colab": {
      "provenance": []
    }
  },
  "nbformat": 4,
  "nbformat_minor": 0
}